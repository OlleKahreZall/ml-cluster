{
 "metadata": {
  "language_info": {
   "codemirror_mode": {
    "name": "ipython",
    "version": 3
   },
   "file_extension": ".py",
   "mimetype": "text/x-python",
   "name": "python",
   "nbconvert_exporter": "python",
   "pygments_lexer": "ipython3",
   "version": "3.8.6"
  },
  "orig_nbformat": 2,
  "kernelspec": {
   "name": "python386jvsc74a57bd0d4368f3447c595ff75680b53f18d3932df1316b06bb3972f74d3a4b804f078e0",
   "display_name": "Python 3.8.6 64-bit"
  },
  "metadata": {
   "interpreter": {
    "hash": "d4368f3447c595ff75680b53f18d3932df1316b06bb3972f74d3a4b804f078e0"
   }
  }
 },
 "nbformat": 4,
 "nbformat_minor": 2,
 "cells": [
  {
   "cell_type": "code",
   "execution_count": 41,
   "metadata": {},
   "outputs": [],
   "source": [
    "from sklearn.model_selection import train_test_split\n",
    "from sklearn.metrics import accuracy_score, r2_score, mean_squared_error\n",
    "from sklearn.neural_network import MLPRegressor\n",
    "from sklearn import preprocessing, svm\n",
    "from sklearn.ensemble import RandomForestRegressor, BaggingRegressor, GradientBoostingRegressor\n",
    "from sklearn.linear_model import LinearRegression\n",
    "from sklearn.ensemble import VotingRegressor\n",
    "from sklearn.linear_model import LinearRegression\n",
    "\n",
    "import pandas as pd\n",
    "import pickle\n",
    "from os import path"
   ]
  },
  {
   "cell_type": "code",
   "execution_count": 42,
   "metadata": {},
   "outputs": [],
   "source": [
    "# reading the csv file using read_csv\n",
    "# storing the data frame in variable called df\n",
    "df = pd.read_csv('final_dataset.csv')\n",
    "\n",
    "# creating a list of column names by calling the .columns\n",
    "features = list(df.columns)"
   ]
  },
  {
   "cell_type": "code",
   "execution_count": 43,
   "metadata": {},
   "outputs": [
    {
     "output_type": "execute_result",
     "data": {
      "text/plain": [
       "       size  forks_count  open_issues_count  subscribers_count\n",
       "0    197052        25839                249               8434\n",
       "1    183401        21312              16810               4428\n",
       "2     10804        42227                 30               9664\n",
       "3     27441        29094                534               6281\n",
       "4     13138        46802                 45               8246\n",
       "..      ...          ...                ...                ...\n",
       "985    3459         2418                314                632\n",
       "986   25924         1908                437                416\n",
       "987    6484         1158                123                333\n",
       "988   34927         1871                 21                695\n",
       "989    1889         1310                  8                306\n",
       "\n",
       "[990 rows x 4 columns]"
      ],
      "text/html": "<div>\n<style scoped>\n    .dataframe tbody tr th:only-of-type {\n        vertical-align: middle;\n    }\n\n    .dataframe tbody tr th {\n        vertical-align: top;\n    }\n\n    .dataframe thead th {\n        text-align: right;\n    }\n</style>\n<table border=\"1\" class=\"dataframe\">\n  <thead>\n    <tr style=\"text-align: right;\">\n      <th></th>\n      <th>size</th>\n      <th>forks_count</th>\n      <th>open_issues_count</th>\n      <th>subscribers_count</th>\n    </tr>\n  </thead>\n  <tbody>\n    <tr>\n      <th>0</th>\n      <td>197052</td>\n      <td>25839</td>\n      <td>249</td>\n      <td>8434</td>\n    </tr>\n    <tr>\n      <th>1</th>\n      <td>183401</td>\n      <td>21312</td>\n      <td>16810</td>\n      <td>4428</td>\n    </tr>\n    <tr>\n      <th>2</th>\n      <td>10804</td>\n      <td>42227</td>\n      <td>30</td>\n      <td>9664</td>\n    </tr>\n    <tr>\n      <th>3</th>\n      <td>27441</td>\n      <td>29094</td>\n      <td>534</td>\n      <td>6281</td>\n    </tr>\n    <tr>\n      <th>4</th>\n      <td>13138</td>\n      <td>46802</td>\n      <td>45</td>\n      <td>8246</td>\n    </tr>\n    <tr>\n      <th>...</th>\n      <td>...</td>\n      <td>...</td>\n      <td>...</td>\n      <td>...</td>\n    </tr>\n    <tr>\n      <th>985</th>\n      <td>3459</td>\n      <td>2418</td>\n      <td>314</td>\n      <td>632</td>\n    </tr>\n    <tr>\n      <th>986</th>\n      <td>25924</td>\n      <td>1908</td>\n      <td>437</td>\n      <td>416</td>\n    </tr>\n    <tr>\n      <th>987</th>\n      <td>6484</td>\n      <td>1158</td>\n      <td>123</td>\n      <td>333</td>\n    </tr>\n    <tr>\n      <th>988</th>\n      <td>34927</td>\n      <td>1871</td>\n      <td>21</td>\n      <td>695</td>\n    </tr>\n    <tr>\n      <th>989</th>\n      <td>1889</td>\n      <td>1310</td>\n      <td>8</td>\n      <td>306</td>\n    </tr>\n  </tbody>\n</table>\n<p>990 rows × 4 columns</p>\n</div>"
     },
     "metadata": {},
     "execution_count": 43
    }
   ],
   "source": [
    "#drop duplicates using the id\n",
    "df = df.drop_duplicates(subset=['id'])\n",
    "\n",
    "X = df[[\"size\", \"forks_count\", \"open_issues_count\", \"subscribers_count\"]]#, \"has_issues\", \"has_projects\",\"has_pages\"]]\n",
    "#created_at returns utc time and we need float\n",
    "#features_selected[\"created_at\"] = pd.to_datetime(features_selected[\"created_at\"]).astype(int) / 10**9\n",
    "y = df[[\"stargazers_count\"]]\n",
    "\n",
    "X"
   ]
  },
  {
   "cell_type": "code",
   "execution_count": 44,
   "metadata": {},
   "outputs": [],
   "source": [
    "# Normalizing the rows\n",
    "X = X.values\n",
    "min_max_scaler = preprocessing.MinMaxScaler()\n",
    "X = min_max_scaler.fit_transform(X)\n",
    "X = pd.DataFrame(X)\n",
    "y = df[[\"stargazers_count\"]]\n",
    "\n",
    "X_train, X_test, y_train, y_test = train_test_split(X, y.values.ravel(), test_size=0.3, random_state=1)"
   ]
  },
  {
   "source": [
    "#this is just an example, change it\n",
    "nn = MLPRegressor(max_iter=10000, hidden_layer_sizes=(5, 2))\n",
    "\n",
    "nn.fit(X_train, y_train)\n",
    "\n",
    "y_pred = nn.predict(X_test)\n",
    "\n",
    "r2 = r2_score(y_test, y_pred)\n",
    "mse = mean_squared_error(y_test, y_pred)\n",
    "\n",
    "# Score returns the coefficient of determination R^2 of the prediction\n",
    "print(r2)\n",
    "print(mse)\n",
    "\n",
    "pickle.dump(nn, open('nn_regressor.sav', 'wb')) "
   ],
   "cell_type": "code",
   "metadata": {},
   "execution_count": 52,
   "outputs": [
    {
     "output_type": "stream",
     "name": "stdout",
     "text": [
      "0.3227650721039105\n",
      "410673858.9587724\n",
      "C:\\Users\\okz97\\AppData\\Local\\Programs\\Python\\Python38\\lib\\site-packages\\sklearn\\neural_network\\_multilayer_perceptron.py:619: UserWarning: Training interrupted by user.\n",
      "  warnings.warn(\"Training interrupted by user.\")\n"
     ]
    }
   ]
  },
  {
   "cell_type": "code",
   "execution_count": 51,
   "metadata": {},
   "outputs": [
    {
     "output_type": "stream",
     "name": "stdout",
     "text": [
      "-0.10004113772040557\n667062669.7363019\n"
     ]
    }
   ],
   "source": [
    "#this is just an example, change it\n",
    "svm_reg = svm.SVR()\n",
    "\n",
    "svm_reg.fit(X_train, y_train)\n",
    "\n",
    "y_pred = svm_reg.predict(X_test)\n",
    "\n",
    "r2 = r2_score(y_test, y_pred)\n",
    "mse = mean_squared_error(y_test, y_pred)\n",
    "print(r2)\n",
    "print(mse)\n",
    "\n",
    "pickle.dump(svm_reg, open('svm_regressor.sav', 'wb'))"
   ]
  },
  {
   "cell_type": "code",
   "execution_count": 46,
   "metadata": {},
   "outputs": [
    {
     "output_type": "stream",
     "name": "stdout",
     "text": [
      "0.6447788852032096\n215405348.9982104\n"
     ]
    }
   ],
   "source": [
    "randomForest = RandomForestRegressor()\n",
    "randomForest.fit(X_train, y_train)\n",
    "y_pred = randomForest.predict(X_test)\n",
    "r2 = r2_score(y_test, y_pred)\n",
    "mse = mean_squared_error(y_test, y_pred)\n",
    "\n",
    "# Score returns the coefficient of determination R^2 of the prediction\n",
    "print(r2)\n",
    "print(mse)\n",
    "\n",
    "pickle.dump(nn, open('randomforest_regressor.sav', 'wb'))"
   ]
  },
  {
   "cell_type": "code",
   "execution_count": 47,
   "metadata": {},
   "outputs": [
    {
     "output_type": "stream",
     "name": "stdout",
     "text": [
      "0.6106779617090037\n236084078.4443268\n"
     ]
    }
   ],
   "source": [
    "linreg = LinearRegression()\n",
    "linreg.fit(X_train, y_train)\n",
    "y_pred = linreg.predict(X_test)\n",
    "\n",
    "r2 = r2_score(y_test, y_pred)\n",
    "mse = mean_squared_error(y_test, y_pred)\n",
    "\n",
    "# Score returns the coefficient of determination R^2 of the prediction\n",
    "print(r2)\n",
    "print(mse)"
   ]
  },
  {
   "cell_type": "code",
   "execution_count": 48,
   "metadata": {},
   "outputs": [
    {
     "output_type": "stream",
     "name": "stdout",
     "text": [
      "0.6301056255075921\n224303183.31609428\n"
     ]
    }
   ],
   "source": [
    "bagging = BaggingRegressor()\n",
    "bagging.fit(X_train, y_train)\n",
    "y_pred = bagging.predict(X_test)\n",
    "r2 = r2_score(y_test, y_pred)\n",
    "mse = mean_squared_error(y_test, y_pred)\n",
    "print(r2)\n",
    "print(mse)\n",
    "\n",
    "pickle.dump(nn, open('bagging_regressor.sav', 'wb'))"
   ]
  },
  {
   "cell_type": "code",
   "execution_count": 49,
   "metadata": {},
   "outputs": [
    {
     "output_type": "stream",
     "name": "stdout",
     "text": [
      "0.6731178862148581\n198220637.42309222\n"
     ]
    }
   ],
   "source": [
    "\n",
    "reg1 = GradientBoostingRegressor(random_state=1)\n",
    "reg2 = RandomForestRegressor(random_state=1)\n",
    "reg3 = LinearRegression()\n",
    "ereg = VotingRegressor(estimators=[('gb', reg1), ('rf', reg2), ('lr', reg3)])\n",
    "ereg = ereg.fit(X_train, y_train)\n",
    "\n",
    "y_pred = ereg.predict(X_test)\n",
    "r2 = r2_score(y_test, y_pred)\n",
    "mse = mean_squared_error(y_test, y_pred)\n",
    "print(r2)\n",
    "print(mse)\n",
    "\n",
    "pickle.dump(nn, open('voting_regressor.sav', 'wb'))"
   ]
  },
  {
   "cell_type": "code",
   "execution_count": 50,
   "metadata": {},
   "outputs": [
    {
     "output_type": "stream",
     "name": "stdout",
     "text": [
      "0.6653368049304433\n202939069.01354432\n"
     ]
    }
   ],
   "source": [
    "\n",
    "gradBoost = GradientBoostingRegressor()\n",
    "gradBoost.fit(X_train, y_train)\n",
    "y_pred = gradBoost.predict(X_test)\n",
    "r2 = r2_score(y_test, y_pred)\n",
    "mse = mean_squared_error(y_test, y_pred)\n",
    "print(r2)\n",
    "print(mse)\n",
    "\n",
    "pickle.dump(nn, open('gradboost_regressor.sav', 'wb'))"
   ]
  }
 ]
}